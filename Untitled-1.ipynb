{
 "cells": [
  {
   "cell_type": "code",
   "execution_count": 96,
   "source": [
    "import serial\r\n",
    "\r\n",
    "SERIAL_PORT = 'COM9'\r\n",
    "SAMPLES_PER_SEC = 5\r\n",
    "SERIAL_SPEED = 4800\r\n",
    "SERIAL_STOPBITS = serial.STOPBITS_TWO\r\n",
    "SERIAL_TIMEOUT = 1.0\r\n",
    "# Transceiver modes and commands\r\n",
    "#MODES = [\"LSB\", \"USB\", \"CW\", \"CWR\", \"AM\", None, \"WFM\", None, \"FM\", None, \"DIG\", None, \"PKT\"]\r\n",
    "#CMD_READ_FREQ = [0x00, 0x00, 0x00, 0x00, 0x03]\r\n",
    "#CMD_TX = [0x00, 0x00, 0x00, 0x08]\r\n",
    "#CMD_RX = [0x00, 0x00, 0x00, 0x88]\r\n",
    "CMD_READ_RX_STATUS = [0x00, 0x00, 0x00, 0x00, 0xE7]\r\n",
    "CMD_SET_FREC = [0x0e ,0x37, 0x00, 0x00, 0x01]\r\n",
    "CMD2 = [0x0e ,0x55, 0x00, 0x00, 0x01]\r\n",
    "ser = serial.Serial('COM9')\r\n",
    "ser.baudrate=\"4800\"\r\n",
    "ser.timeout=1\r\n",
    "ser.stopbits = serial.STOPBITS_TWO\r\n",
    "\r\n",
    "cmd = CMD2\r\n",
    "print(cmd)\r\n",
    "ser.write(cmd)\r\n",
    "\r\n",
    "\r\n",
    "#ser.write(cmd.encode())\r\n",
    "\r\n",
    "ser.close()"
   ],
   "outputs": [
    {
     "output_type": "stream",
     "name": "stdout",
     "text": [
      "[14, 85, 0, 0, 1]\n"
     ]
    }
   ],
   "metadata": {}
  }
 ],
 "metadata": {
  "orig_nbformat": 4,
  "language_info": {
   "name": "python",
   "version": "3.9.6",
   "mimetype": "text/x-python",
   "codemirror_mode": {
    "name": "ipython",
    "version": 3
   },
   "pygments_lexer": "ipython3",
   "nbconvert_exporter": "python",
   "file_extension": ".py"
  },
  "kernelspec": {
   "name": "python3",
   "display_name": "Python 3.9.6 64-bit"
  },
  "interpreter": {
   "hash": "ac59ebe37160ed0dfa835113d9b8498d9f09ceb179beaac4002f036b9467c963"
  }
 },
 "nbformat": 4,
 "nbformat_minor": 2
}